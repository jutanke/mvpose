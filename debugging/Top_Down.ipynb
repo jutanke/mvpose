{
 "cells": [
  {
   "cell_type": "code",
   "execution_count": null,
   "metadata": {},
   "outputs": [],
   "source": [
    "%matplotlib inline\n",
    "import json\n",
    "Settings = json.load(open('../settings.txt'))\n",
    "import matplotlib.pyplot as plt\n",
    "from mpl_toolkits.mplot3d import Axes3D\n",
    "import sys\n",
    "sys.path.insert(0, '../'); sys.path.insert(0, '../samples')\n",
    "sys.path.insert(0, './')\n",
    "\n",
    "from mvpose.topdown.bb import BoundBoxExtractor\n",
    "\n",
    "bb = BoundBoxExtractor()"
   ]
  },
  {
   "cell_type": "code",
   "execution_count": null,
   "metadata": {},
   "outputs": [],
   "source": [
    "from mvpose.data import umpm\n",
    "from os.path import join\n",
    "import numpy as np\n",
    "from time import time\n",
    "\n",
    "root = join(Settings['data_root'], 'pak')\n",
    "user = Settings['UMPM']['username']\n",
    "pwd = Settings['UMPM']['password']\n",
    "tmp = Settings['tmp']\n",
    "\n",
    "FRAME = 1430\n",
    "#FRAME = 0\n",
    "\n",
    "X, Y, Calib = umpm.get(root, 'p2_free_1', user, pwd)\n",
    "Imgs = [X[0][FRAME], X[1][FRAME], X[2][FRAME], X[3][FRAME]]\n",
    "\n",
    "_start = time()\n",
    "boxes = bb.extract_bbs(Imgs)\n",
    "_end = time()\n",
    "print('elapsed', _end - _start)"
   ]
  },
  {
   "cell_type": "code",
   "execution_count": null,
   "metadata": {},
   "outputs": [],
   "source": [
    "fig = plt.figure(figsize=(16,12))\n",
    "\n",
    "for cid, (im_boxes, im) in enumerate(zip(boxes, Imgs)):\n",
    "    ax = fig.add_subplot(2,2,1+cid)\n",
    "    ax.axis('off')\n",
    "    h,w,_ = im.shape\n",
    "    ax.imshow(im)\n",
    "    \n",
    "    for x1, y1, x2, y2, score in im_boxes:\n",
    "        ax.plot([x1, x1, x2, x2, x1], \n",
    "                [y1, y2, y2, y1, y1], color='red')\n",
    "        ax.text(x1, y1, str(score))\n",
    "    \n",
    "plt.show()"
   ]
  }
 ],
 "metadata": {
  "kernelspec": {
   "display_name": "Python 3",
   "language": "python",
   "name": "python3"
  },
  "language_info": {
   "codemirror_mode": {
    "name": "ipython",
    "version": 3
   },
   "file_extension": ".py",
   "mimetype": "text/x-python",
   "name": "python",
   "nbconvert_exporter": "python",
   "pygments_lexer": "ipython3",
   "version": "3.7.1"
  }
 },
 "nbformat": 4,
 "nbformat_minor": 2
}
