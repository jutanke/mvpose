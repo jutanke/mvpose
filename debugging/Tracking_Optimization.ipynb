{
 "cells": [
  {
   "cell_type": "code",
   "execution_count": 12,
   "metadata": {},
   "outputs": [
    {
     "name": "stdout",
     "output_type": "stream",
     "text": [
      "(0, 0)--(1, 0),  1.0\n",
      "(0, 0)--(1, 1),  0.0\n",
      "(0, 1)--(1, 0),  0.0\n",
      "(0, 1)--(1, 1),  1.0\n",
      "(0, 0)--(2, 0),  1.0\n",
      "(0, 0)--(2, 1),  0.0\n",
      "(0, 1)--(2, 0),  0.0\n",
      "(0, 1)--(2, 1),  1.0\n",
      "(1, 0)--(2, 0),  1.0\n",
      "(1, 0)--(2, 1),  0.0\n",
      "(1, 1)--(2, 0),  0.0\n",
      "(1, 1)--(2, 1),  1.0\n"
     ]
    }
   ],
   "source": [
    "from ortools.linear_solver import pywraplp as mip\n",
    "import numpy.linalg as la\n",
    "import numpy as np\n",
    "\n",
    "graph_3d = {}\n",
    "graph_3d[0, 0, 1, 0] = 0.7\n",
    "graph_3d[0, 0, 1, 1] = 0.6\n",
    "graph_3d[0, 1, 1, 0] = 0.2\n",
    "graph_3d[0, 1, 1, 1] = 0.8\n",
    "graph_3d[0, 0, 2, 0] = 0.9\n",
    "graph_3d[0, 0, 2, 1] = 0.55\n",
    "graph_3d[0, 1, 2, 0] = 0.1\n",
    "graph_3d[0, 1, 2, 1] = 0.9\n",
    "graph_3d[1, 0, 2, 0] = 0.9\n",
    "graph_3d[1, 0, 2, 1] = 0.51\n",
    "graph_3d[1, 1, 2, 0] = 0.01\n",
    "graph_3d[1, 1, 2, 1] = 0.99\n",
    "n_frames = 3\n",
    "\n",
    "\n",
    "solver = mip.Solver('t', mip.Solver.CBC_MIXED_INTEGER_PROGRAMMING)\n",
    "\n",
    "pids_per_frame = {}\n",
    "Tau = {}\n",
    "costs = {}\n",
    "for (tA, pidA, tB, pidB), score in graph_3d.items():\n",
    "    Tau[tA, pidA, tB, pidB] = solver.BoolVar('t[%i,%i,%i,%i]' % (tA, pidA, tB, pidB))\n",
    "    costs[tA, pidA, tB, pidB] = np.log(score / (1-score))\n",
    "    if tA not in pids_per_frame:\n",
    "        pids_per_frame[tA] = set()\n",
    "    pids_per_frame[tA].add(pidA)\n",
    "    if tB not in pids_per_frame:\n",
    "        pids_per_frame[tB] = set()\n",
    "    pids_per_frame[tB].add(pidB)\n",
    "\n",
    "Sum = solver.Sum(Tau[edge] * costs[edge] for edge in graph_3d.keys())\n",
    "\n",
    "for t1 in range(n_frames - 1):\n",
    "    for t2 in range(t1 + 1, n_frames):\n",
    "        for pid1 in pids_per_frame[t1]:\n",
    "            solver.Add(\n",
    "                solver.Sum(Tau[t1, pid1, t2, pid2] for pid2 in pids_per_frame[t2]\\\n",
    "                           if (t1, pid1, t2, pid2) in Tau) <= 1\n",
    "            )\n",
    "            \n",
    "solver.Maximize(Sum)\n",
    "RESULT = solver.Solve()\n",
    "\n",
    "for (t1, pid1, t2, pid2), v in Tau.items():\n",
    "    assert t1 < t2\n",
    "    print(str((t1, pid1)) + '--' + str((t2, pid2)) + ', ', v.solution_value())"
   ]
  }
 ],
 "metadata": {
  "kernelspec": {
   "display_name": "Python 3",
   "language": "python",
   "name": "python3"
  },
  "language_info": {
   "codemirror_mode": {
    "name": "ipython",
    "version": 3
   },
   "file_extension": ".py",
   "mimetype": "text/x-python",
   "name": "python",
   "nbconvert_exporter": "python",
   "pygments_lexer": "ipython3",
   "version": "3.6.5"
  }
 },
 "nbformat": 4,
 "nbformat_minor": 2
}
