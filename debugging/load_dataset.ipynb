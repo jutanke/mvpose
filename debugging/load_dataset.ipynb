{
 "cells": [
  {
   "cell_type": "code",
   "execution_count": 2,
   "metadata": {},
   "outputs": [
    {
     "name": "stdout",
     "output_type": "stream",
     "text": [
      "UMPM\n"
     ]
    }
   ],
   "source": [
    "%matplotlib inline\n",
    "# ---- settings ----\n",
    "import json\n",
    "Settings = json.load(open('../settings.txt'))\n",
    "import matplotlib.pyplot as plt\n",
    "from mpl_toolkits.mplot3d import Axes3D\n",
    "import sys\n",
    "sys.path.insert(0, '../')\n",
    "from os.path import join, isdir\n",
    "import numpy as np\n",
    "import cv2\n",
    "from cselect import color as cs\n",
    "from time import time\n",
    "\n",
    "from mvpose.data import umpm\n",
    "\n",
    "root = join(Settings['data_root'], 'pak')\n",
    "user = Settings['UMPM']['username']\n",
    "pwd = Settings['UMPM']['password']\n",
    "\n",
    "X, Y, Calib = umpm.get(root, 'p2_chair_2', user, pwd)"
   ]
  },
  {
   "cell_type": "code",
   "execution_count": null,
   "metadata": {},
   "outputs": [],
   "source": [
    "from numpy.random import randint\n",
    "\n",
    "print(Y[0].shape)\n",
    "\n",
    "def get_joint(X, Y, Calib):\n",
    "    n_frames = len(X[0])\n",
    "    player = randint(1, 3)  # 1 or 2\n",
    "    cid1 = randint(0, len(X))\n",
    "    cid2 = randint(0, len(X))\n",
    "    frame1 = randint(0, n_frames-1)\n",
    "    frame2 = randint(0, n_frames-1)\n",
    "    jid = randint(0, 14) * player\n",
    "    #jid2 = randint(0, 14) * player\n",
    "    \n",
    "    im1 = X[cid1][frame1]\n",
    "    im2 = X[cid2][frame2]\n",
    "    \n",
    "    y1 = Y[frame1][jid][0:3]\n",
    "    y2 = Y[frame2][jid][0:3]\n",
    "    \n",
    "    x1, y1 = np.squeeze(\n",
    "        Calib[cid1].projectPoints(np.array([y1]))).astype('int32')\n",
    "    x2, y2 = np.squeeze(\n",
    "        Calib[cid2].projectPoints(np.array([y2]))).astype('int32')\n",
    "    \n",
    "    k = 20\n",
    "    \n",
    "    h1 = im1[y1-k: y1+k, x1-k: x1+k]\n",
    "    h2 = im2[y2-k: y2+k, x2-k: x2+k]\n",
    "    \n",
    "    print((frame1, frame2))\n",
    "    print('size', im1.shape)\n",
    "    print((x1, y1))\n",
    "    print((x2, y2))\n",
    "    \n",
    "    print('h1', np.sum(h1))\n",
    "    print('h2', np.sum(h2))\n",
    "    print('im1', np.sum(im1))\n",
    "    print('im2', np.sum(im2))\n",
    "    print(\"cids\", (cid1, cid2))\n",
    "    print('frames' + str((frame1, frame2)) + \" /\", n_frames)\n",
    "    \n",
    "    return h1, h2\n",
    "\n",
    "im1, im2 = get_joint(X, Y, Calib)\n",
    "\n",
    "fig = plt.figure(figsize=(10, 10))\n",
    "fig.add_subplot(121).imshow(im1)\n",
    "fig.add_subplot(122).imshow(im2)\n",
    "\n",
    "plt.show()"
   ]
  },
  {
   "cell_type": "code",
   "execution_count": null,
   "metadata": {},
   "outputs": [],
   "source": [
    "f = 781\n",
    "\n",
    "fig = plt.figure(figsize=(16,10))\n",
    "for cid in range(4):\n",
    "    fig.add_subplot(1,4,cid+1).imshow(X[cid][f])\n",
    "plt.show()"
   ]
  }
 ],
 "metadata": {
  "kernelspec": {
   "display_name": "Python 3",
   "language": "python",
   "name": "python3"
  },
  "language_info": {
   "codemirror_mode": {
    "name": "ipython",
    "version": 3
   },
   "file_extension": ".py",
   "mimetype": "text/x-python",
   "name": "python",
   "nbconvert_exporter": "python",
   "pygments_lexer": "ipython3",
   "version": "3.6.4"
  }
 },
 "nbformat": 4,
 "nbformat_minor": 2
}
