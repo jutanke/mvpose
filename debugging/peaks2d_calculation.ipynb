{
 "cells": [
  {
   "cell_type": "code",
   "execution_count": 11,
   "metadata": {},
   "outputs": [
    {
     "name": "stdout",
     "output_type": "stream",
     "text": [
      "UMPM\n"
     ]
    },
    {
     "data": {
      "image/png": "[encoded data removed]",
      "text/plain": [
       "<Figure size 432x288 with 1 Axes>"
      ]
     },
     "metadata": {},
     "output_type": "display_data"
    }
   ],
   "source": [
    "%matplotlib inline\n",
    "# ---- settings ----\n",
    "import json\n",
    "Settings = json.load(open('../settings.txt'))\n",
    "import matplotlib.pyplot as plt\n",
    "from mpl_toolkits.mplot3d import Axes3D\n",
    "import sys\n",
    "sys.path.insert(0, '../')\n",
    "sys.path.insert(0, '../samples')\n",
    "import paf_loader\n",
    "from os.path import join, isdir\n",
    "import numpy as np\n",
    "import cv2\n",
    "from cselect import color as cs\n",
    "\n",
    "from mvpose.data import umpm\n",
    "\n",
    "root = join(Settings['data_root'], 'pak')\n",
    "user = Settings['UMPM']['username']\n",
    "pwd = Settings['UMPM']['password']\n",
    "\n",
    "# **************************** #\n",
    "FRAME = 0\n",
    "# **************************** #\n",
    "\n",
    "X, Y, Calib = umpm.get(root, 'p2_free_1', user, pwd)\n",
    "\n",
    "Im = np.array([X[0][FRAME], X[1][FRAME], X[2][FRAME], X[3][FRAME]])\n",
    "\n",
    "heatmaps, pafs = paf_loader.load_confidence_map_and_paf('umpm', Im, FRAME)\n",
    "\n",
    "\n",
    "hm0 = heatmaps[0,:,:,1]\n",
    "\n",
    "plt.imshow(hm0)\n",
    "plt.show()"
   ]
  },
  {
   "cell_type": "code",
   "execution_count": 5,
   "metadata": {},
   "outputs": [
    {
     "name": "stdout",
     "output_type": "stream",
     "text": [
      "elapsed 0.2568366527557373\n"
     ]
    }
   ],
   "source": [
    "from skimage.feature import peak_local_max\n",
    "import mvpose.geometry.geometry as gm\n",
    "import cv2\n",
    "import numpy as np\n",
    "from time import time\n",
    "\n",
    "\n",
    "def get_all_peaks(heatmap, threshold):\n",
    "    \"\"\"\n",
    "    extracts peaks from the heatmap\n",
    "    :param heatmap: h x w x m\n",
    "    :param threshold:\n",
    "    :return: [\n",
    "            [ (x,y,score), (x,y,score),... ]  # Nose\n",
    "            ...\n",
    "    ]\n",
    "    \"\"\"\n",
    "    # TODO: this function is slow ~0.3 seconds per call\n",
    "    _, _, n_joints = heatmap.shape\n",
    "\n",
    "    peaks = []\n",
    "    for i in range(n_joints):\n",
    "        hm = heatmap[:,:,i]\n",
    "        local_peaks = peak_local_max(hm, threshold_abs=threshold)\n",
    "        found_peaks = []\n",
    "        for x,y in local_peaks:\n",
    "            found_peaks.append((y,x,hm[x,y]))\n",
    "        peaks.append(np.array(found_peaks))\n",
    "    return peaks\n",
    "\n",
    "_start = time()\n",
    "get_all_peaks(heatmaps[0], 0.1)\n",
    "_end = time()\n",
    "print('elapsed', _end - _start)"
   ]
  }
 ],
 "metadata": {
  "kernelspec": {
   "display_name": "Python 3",
   "language": "python",
   "name": "python3"
  },
  "language_info": {
   "codemirror_mode": {
    "name": "ipython",
    "version": 3
   },
   "file_extension": ".py",
   "mimetype": "text/x-python",
   "name": "python",
   "nbconvert_exporter": "python",
   "pygments_lexer": "ipython3",
   "version": "3.6.4"
  }
 },
 "nbformat": 4,
 "nbformat_minor": 2
}
