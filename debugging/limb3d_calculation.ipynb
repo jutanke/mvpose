{
 "cells": [
  {
   "cell_type": "code",
   "execution_count": 2,
   "metadata": {},
   "outputs": [
    {
     "name": "stderr",
     "output_type": "stream",
     "text": [
      "/home/julian/anaconda3/lib/python3.6/site-packages/h5py/__init__.py:36: FutureWarning: Conversion of the second argument of issubdtype from `float` to `np.floating` is deprecated. In future, it will be treated as `np.float64 == np.dtype(float).type`.\n",
      "  from ._conv import register_converters as _register_converters\n",
      "Using TensorFlow backend.\n"
     ]
    },
    {
     "name": "stdout",
     "output_type": "stream",
     "text": [
      "UMPM\n"
     ]
    }
   ],
   "source": [
    "%matplotlib inline\n",
    "# ---- settings ----\n",
    "import json\n",
    "Settings = json.load(open('../settings.txt'))\n",
    "import matplotlib.pyplot as plt\n",
    "from mpl_toolkits.mplot3d import Axes3D\n",
    "import sys\n",
    "sys.path.insert(0, '../')\n",
    "sys.path.insert(0, '../samples')\n",
    "import paf_loader\n",
    "from os.path import join, isdir\n",
    "import numpy as np\n",
    "import cv2\n",
    "from cselect import color as cs\n",
    "\n",
    "from mvpose.data import umpm\n",
    "\n",
    "root = join(Settings['data_root'], 'pak')\n",
    "user = Settings['UMPM']['username']\n",
    "pwd = Settings['UMPM']['password']\n",
    "\n",
    "# **************************** #\n",
    "FRAME = 0\n",
    "# **************************** #\n",
    "\n",
    "X, Y, Calib = umpm.get(root, 'p2_free_1', user, pwd)\n",
    "\n",
    "Im = np.array([X[0][FRAME], X[1][FRAME], X[2][FRAME], X[3][FRAME]])\n",
    "\n",
    "heatmaps, pafs = paf_loader.load_confidence_map_and_paf('umpm', Im, FRAME)\n"
   ]
  },
  {
   "cell_type": "code",
   "execution_count": 6,
   "metadata": {},
   "outputs": [
    {
     "name": "stdout",
     "output_type": "stream",
     "text": [
      "step 1: elapsed 1.2829859256744385\n",
      "step 2: elapsed 0.012461423873901367\n"
     ]
    }
   ],
   "source": [
    "from mvpose.data.default_limbs import DEFAULT_LIMB_SEQ, \\\n",
    "    DEFAULT_MAP_IDX, DEFAULT_SENSIBLE_LIMB_LENGTH\n",
    "from mvpose.algorithm.peaks2d import Candidates2D\n",
    "from mvpose.algorithm.triangulation import Triangulation\n",
    "from mvpose.algorithm.limbs3d import Limbs3d\n",
    "from time import time\n",
    "\n",
    "max_epi_distance = 10\n",
    "\n",
    "# -------- step 1 --------\n",
    "# calculate 2d candidates\n",
    "# ------------------------\n",
    "_start = time()\n",
    "cand2d = Candidates2D(heatmaps, Calib)\n",
    "_end = time()\n",
    "print('step 1: elapsed', _end - _start)\n",
    "\n",
    "# -------- step 2 --------\n",
    "# triangulate 2d candidates\n",
    "# ------------------------\n",
    "_start = time()\n",
    "triangulation = Triangulation(cand2d, max_epi_distance)\n",
    "_end = time()\n",
    "print('step 2: elapsed', _end - _start)"
   ]
  }
 ],
 "metadata": {
  "kernelspec": {
   "display_name": "Python 3",
   "language": "python",
   "name": "python3"
  },
  "language_info": {
   "codemirror_mode": {
    "name": "ipython",
    "version": 3
   },
   "file_extension": ".py",
   "mimetype": "text/x-python",
   "name": "python",
   "nbconvert_exporter": "python",
   "pygments_lexer": "ipython3",
   "version": "3.6.5"
  }
 },
 "nbformat": 4,
 "nbformat_minor": 2
}
