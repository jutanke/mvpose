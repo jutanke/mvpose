{
 "cells": [
  {
   "cell_type": "code",
   "execution_count": 1,
   "metadata": {},
   "outputs": [
    {
     "name": "stderr",
     "output_type": "stream",
     "text": [
      "/home/julian/anaconda3/lib/python3.6/site-packages/h5py/__init__.py:36: FutureWarning: Conversion of the second argument of issubdtype from `float` to `np.floating` is deprecated. In future, it will be treated as `np.float64 == np.dtype(float).type`.\n",
      "  from ._conv import register_converters as _register_converters\n",
      "Using TensorFlow backend.\n"
     ]
    },
    {
     "name": "stdout",
     "output_type": "stream",
     "text": [
      "UMPM\n"
     ]
    }
   ],
   "source": [
    "%matplotlib inline\n",
    "# ---- settings ----\n",
    "import json\n",
    "Settings = json.load(open('../settings.txt'))\n",
    "import matplotlib.pyplot as plt\n",
    "from mpl_toolkits.mplot3d import Axes3D\n",
    "import sys\n",
    "sys.path.insert(0, '../')\n",
    "sys.path.insert(0, '../samples')\n",
    "import paf_loader\n",
    "from os.path import join, isdir\n",
    "import numpy as np\n",
    "import cv2\n",
    "from cselect import color as cs\n",
    "\n",
    "from mvpose.data import umpm\n",
    "\n",
    "root = join(Settings['data_root'], 'pak')\n",
    "user = Settings['UMPM']['username']\n",
    "pwd = Settings['UMPM']['password']\n",
    "\n",
    "# **************************** #\n",
    "FRAME = 0\n",
    "# **************************** #\n",
    "\n",
    "X, Y, Calib = umpm.get(root, 'p2_free_1', user, pwd)\n",
    "\n",
    "Im = np.array([X[0][FRAME], X[1][FRAME], X[2][FRAME], X[3][FRAME]])\n",
    "\n",
    "heatmaps, pafs = paf_loader.load_confidence_map_and_paf('umpm', Im, FRAME)\n"
   ]
  },
  {
   "cell_type": "code",
   "execution_count": 2,
   "metadata": {},
   "outputs": [
    {
     "name": "stdout",
     "output_type": "stream",
     "text": [
      "step 1: elapsed 1.1789746284484863\n",
      "step 2: elapsed 0.014447689056396484\n"
     ]
    }
   ],
   "source": [
    "from mvpose.data.default_limbs import DEFAULT_LIMB_SEQ, \\\n",
    "    DEFAULT_MAP_IDX, DEFAULT_SENSIBLE_LIMB_LENGTH\n",
    "from mvpose.algorithm.peaks2d import Candidates2D\n",
    "from mvpose.algorithm.triangulation import Triangulation\n",
    "from mvpose.algorithm.limbs3d import Limbs3d\n",
    "from time import time\n",
    "\n",
    "max_epi_distance = 10\n",
    "\n",
    "limbSeq = DEFAULT_LIMB_SEQ\n",
    "sensible_limb_length = DEFAULT_SENSIBLE_LIMB_LENGTH\n",
    "limbMapIdx = DEFAULT_MAP_IDX\n",
    "\n",
    "# -------- step 1 --------\n",
    "# calculate 2d candidates\n",
    "# ------------------------\n",
    "_start = time()\n",
    "cand2d = Candidates2D(heatmaps, Calib)\n",
    "_end = time()\n",
    "print('step 1: elapsed', _end - _start)\n",
    "\n",
    "# -------- step 2 --------\n",
    "# triangulate 2d candidates\n",
    "# ------------------------\n",
    "_start = time()\n",
    "triangulation = Triangulation(cand2d, max_epi_distance)\n",
    "_end = time()\n",
    "print('step 2: elapsed', _end - _start)"
   ]
  },
  {
   "cell_type": "code",
   "execution_count": 55,
   "metadata": {},
   "outputs": [
    {
     "name": "stdout",
     "output_type": "stream",
     "text": [
      "[0 1 2 2]\n",
      "[2 1 0 1]\n"
     ]
    },
    {
     "data": {
      "text/plain": [
       "0.0"
      ]
     },
     "execution_count": 55,
     "metadata": {},
     "output_type": "execute_result"
    }
   ],
   "source": [
    "\n",
    "@jit([float64(float64[:,:,])], nopython=True)\n",
    "def do_stuff(L):\n",
    "    Mask = (L >= 1) * 1\n",
    "    \n",
    "    x,y = np.nonzero(Mask)\n",
    "    print(x)\n",
    "    print(y)\n",
    "    \n",
    "    #XY = np.transpose(np.nonzero(Mask).astype('int64'))\n",
    "    \n",
    "    return 0.0\n",
    "\n",
    "\n",
    "L = np.array([\n",
    "    [0, 0, 1],\n",
    "    [0, 1, 0],\n",
    "    [1, 1, 0]\n",
    "], 'float64')\n",
    "\n",
    "do_stuff(L)"
   ]
  },
  {
   "cell_type": "code",
   "execution_count": 89,
   "metadata": {},
   "outputs": [],
   "source": [
    "from mvpose.plot.limbs import draw_vector_field_readonly\n",
    "import numba as nb\n",
    "from numba import jit, float64, boolean\n",
    "from mvpose.compiler.numba_types import float64_2d_const\n",
    "import numpy.linalg as la\n",
    "\n",
    "\n",
    "#@jit([float64[:,:](float64[:,:,], float64[:,:,], float64_2d_const, float64_2d_const, boolean)], nopython=True)\n",
    "@jit([float64[:,:](float64[:,:,], float64[:,:,], float64[:,:,], float64[:,:,])], nopython=True)\n",
    "def calculate_line_integral_elementwise(candA, candB, mapx, mapy):\n",
    "    \"\"\"\n",
    "        calculates the line integral for points element-wise\n",
    "    :param candA: [ (x,y), (x,y), ...]\n",
    "    :param candB: [ (x,y), (x,y), ...]\n",
    "    :param mapx: w x h\n",
    "    :param mapy: w x h\n",
    "    :param normalize:\n",
    "    :return:\n",
    "    \"\"\"\n",
    "    assert mapx.shape == mapy.shape\n",
    "    assert len(candA.shape) == 2\n",
    "    assert len(candB.shape) == 2\n",
    "    assert candA.shape[1] == 2\n",
    "    assert candB.shape[1] == 2\n",
    "    assert len(mapx.shape) == 2\n",
    "    mid_num = 10\n",
    "    nA = len(candA)\n",
    "    nB = len(candB)\n",
    "    assert nA == nB\n",
    "\n",
    "    h, w = mapx.shape\n",
    "    score_mid = np.zeros((h,w,2))\n",
    "    score_mid[:,:,0] = mapx\n",
    "    score_mid[:,:,1] = mapy\n",
    "\n",
    "    W = np.zeros((nA, 1))\n",
    "\n",
    "    for i in range(nA):\n",
    "        d = np.subtract(candB[i], candA[i])\n",
    "        norm = la.norm(d)\n",
    "        if norm == 0:\n",
    "            continue\n",
    "        d = np.divide(d, norm)\n",
    "\n",
    "        iterX = np.linspace(candA[i][0], candB[i][0], mid_num)\n",
    "        iterY = np.linspace(candA[i][1], candB[i][1], mid_num)\n",
    "\n",
    "        for x, y in zip(iterX, iterY):\n",
    "            x_ = min(int(round(x)), w-1)\n",
    "            y_ = min(int(round(y)), h-1)\n",
    "            Lc = score_mid[y_, x_]\n",
    "            W[i] += Lc @ d\n",
    "\n",
    "    return W/mid_num"
   ]
  },
  {
   "cell_type": "code",
   "execution_count": 92,
   "metadata": {},
   "outputs": [
    {
     "name": "stdout",
     "output_type": "stream",
     "text": [
      "elapsed 0.6229281425476074\n"
     ]
    }
   ],
   "source": [
    "import numpy.linalg as la\n",
    "from scipy.special import comb\n",
    "import mvpose.geometry.geometry as gm\n",
    "from mvpose.plot.limbs import draw_vector_field\n",
    "#from mvpose.algorithm.limbs3d import calculate_line_integral_elementwise\n",
    "#from mvpose.algorithm.limbs3d import clamp_to_1\n",
    "\n",
    "\n",
    "\n",
    "\n",
    "peaks3d = triangulation.peaks3d_weighted\n",
    "Pafs = pafs\n",
    "\n",
    "# ===================================================\n",
    "_start = time()\n",
    "# ===================================================\n",
    "n_cameras, h, w, _ = Pafs.shape\n",
    "n_limbs = len(limbSeq)\n",
    "assert n_cameras == len(Calib)\n",
    "assert len(limbSeq) == len(sensible_limb_length)\n",
    "CAMERA_NORM = comb(n_cameras, 2)  # this is needed to make the 3d pafs be between -1 .. 1\n",
    "limbs3d = [None] * n_limbs\n",
    "\n",
    "for idx, ((a, b), (length_min, length_max), (pafA, pafB)) in \\\n",
    "        enumerate(zip(limbSeq, sensible_limb_length, limbMapIdx)):\n",
    "    # 3d peaks are setup as follows:\n",
    "    #       (x,y,z,score1,score2)\n",
    "    candA3d = peaks3d[a]\n",
    "    candB3d = peaks3d[b]\n",
    "\n",
    "    nA = len(candA3d)\n",
    "    nB = len(candB3d)\n",
    "\n",
    "    W = np.zeros((nA, nB))\n",
    "\n",
    "    if nA > 0 and nB > 0:\n",
    "        for cid, cam in enumerate(Calib):\n",
    "            \n",
    "            \n",
    "            K, rvec, tvec, distCoef = gm.get_camera_parameters(cam)\n",
    "\n",
    "            U = Pafs[cid, :, :, pafA]; U.setflags(write=False)\n",
    "            V = Pafs[cid, :, :, pafB]; V.setflags(write=False)\n",
    "\n",
    "            ptsA2d, maskA = gm.reproject_points_to_2d(\n",
    "                candA3d[:, 0:3], rvec, tvec, K, w, h, distCoef=distCoef, binary_mask=True)\n",
    "            ptsB2d, maskB = gm.reproject_points_to_2d(\n",
    "                candB3d[:, 0:3], rvec, tvec, K, w, h, distCoef=distCoef, binary_mask=True)\n",
    "            maskA = maskA == 1\n",
    "            maskB = maskB == 1\n",
    "            \n",
    "            ptA_candidates = []\n",
    "            ptB_candidates = []\n",
    "            pair_candidates = []\n",
    "            \n",
    "            for i, (ptA, ptA3d, is_A_on_screen) in enumerate(zip(ptsA2d, candA3d, maskA)):\n",
    "                if not is_A_on_screen:\n",
    "                    continue\n",
    "                for j, (ptB, ptB3d, is_B_on_screen) in enumerate(zip(ptsB2d, candB3d, maskB)):\n",
    "                    if not is_B_on_screen:\n",
    "                        continue\n",
    "                    distance = la.norm(ptA3d[0:3] - ptB3d[0:3])\n",
    "                    if length_min < distance < length_max:\n",
    "                        ptA_candidates.append(ptA)\n",
    "                        ptB_candidates.append(ptB)\n",
    "                        pair_candidates.append((i, j))\n",
    "\n",
    "            if len(ptA_candidates) > 0:\n",
    "                line_int = calculate_line_integral_elementwise(\n",
    "                    np.array(ptA_candidates), np.array(ptB_candidates), U, V)\n",
    "                line_int = np.clip(line_int, a_min=-1, a_max=1)\n",
    "                assert len(line_int) == len(pair_candidates)\n",
    "                line_int = np.squeeze(line_int / CAMERA_NORM)\n",
    "                if len(line_int.shape) == 0:  # this happens when line_int.shape = (1, 1)\n",
    "                    line_int = np.expand_dims(line_int, axis=0)\n",
    "                for score, (i, j) in zip(line_int, pair_candidates):\n",
    "                    W[i, j] += score\n",
    "            \n",
    "\n",
    "\n",
    "    limbs3d[idx] = W\n",
    "\n",
    "# ===================================================\n",
    "_end = time()\n",
    "print('elapsed', _end - _start)\n",
    "# ==================================================="
   ]
  }
 ],
 "metadata": {
  "kernelspec": {
   "display_name": "Python 3",
   "language": "python",
   "name": "python3"
  },
  "language_info": {
   "codemirror_mode": {
    "name": "ipython",
    "version": 3
   },
   "file_extension": ".py",
   "mimetype": "text/x-python",
   "name": "python",
   "nbconvert_exporter": "python",
   "pygments_lexer": "ipython3",
   "version": "3.6.4"
  }
 },
 "nbformat": 4,
 "nbformat_minor": 2
}
