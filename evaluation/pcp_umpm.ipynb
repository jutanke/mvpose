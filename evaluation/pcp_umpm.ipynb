{
 "cells": [
  {
   "cell_type": "code",
   "execution_count": 1,
   "metadata": {},
   "outputs": [
    {
     "name": "stderr",
     "output_type": "stream",
     "text": [
      "/home/tanke/anaconda3/lib/python3.6/site-packages/h5py/__init__.py:36: FutureWarning: Conversion of the second argument of issubdtype from `float` to `np.floating` is deprecated. In future, it will be treated as `np.float64 == np.dtype(float).type`.\n",
      "  from ._conv import register_converters as _register_converters\n",
      "Using TensorFlow backend.\n"
     ]
    },
    {
     "name": "stdout",
     "output_type": "stream",
     "text": [
      "UMPM\n"
     ]
    }
   ],
   "source": [
    "%matplotlib inline\n",
    "\n",
    "import json\n",
    "Settings = json.load(open('../settings.txt'))\n",
    "import matplotlib.pyplot as plt\n",
    "import numpy as np\n",
    "from os.path import join\n",
    "from cselect import color as cs\n",
    "import sys\n",
    "sys.path.insert(0,'../')\n",
    "sys.path.insert(0,'../samples')\n",
    "from mvpose.data import epfl_campus\n",
    "from time import time\n",
    "\n",
    "root = Settings['data_root']\n",
    "root = join(root, 'pak')\n",
    "tmp = Settings['tmp']\n",
    "\n",
    "import mvpose.data.kth_football2 as kth\n",
    "from mvpose import pose\n",
    "from mvpose.settings import get_settings\n",
    "from paf_loader import Loader\n",
    "from mvpose.evaluation import pcp\n",
    "from mvpose.data import umpm\n",
    "\n",
    "root = join(Settings['data_root'], 'pak')\n",
    "user = Settings['UMPM']['username']\n",
    "pwd = Settings['UMPM']['password']\n",
    "tmp = Settings['tmp']\n",
    "tmp = '/tmp'\n",
    "\n",
    "params = get_settings()\n",
    "loader = Loader(with_gpu=True)\n",
    "\n",
    "X, Y, Calib = umpm.get(root, 'p2_free_1', user, pwd)"
   ]
  },
  {
   "cell_type": "code",
   "execution_count": 2,
   "metadata": {},
   "outputs": [
    {
     "name": "stdout",
     "output_type": "stream",
     "text": [
      "frame 0, elapsed 6.860132455825806\n",
      "frame 5, elapsed 4.013889789581299\n",
      "frame 10, elapsed 4.061291933059692\n",
      "frame 15, elapsed 4.061710834503174\n"
     ]
    }
   ],
   "source": [
    "def generate_pcp_score(frame):\n",
    "    alpha = 0.5\n",
    "    Im = np.array([X[0][frame], X[1][frame], X[2][frame], X[3][frame]])\n",
    "    heatmaps, pafs = loader.load_confidence_map_and_paf('umpm', \n",
    "                                                            Im, \n",
    "                                                            frame, \n",
    "                                                            dir=tmp)\n",
    "    \n",
    "    detections = pose.estimate(\n",
    "        Calib, heatmaps, pafs, settings=params, debug=False)\n",
    "    Humans = kth.transform3d_from_mscoco(detections)\n",
    "    \n",
    "    L_Arms = []\n",
    "    U_Arms = []\n",
    "    L_Legs = []\n",
    "    U_Legs = []\n",
    "    GTIDs = []\n",
    "    a = Y[frame,0:14,0:3]\n",
    "    b = Y[frame,14:,0:3]\n",
    "    Y_ = kth.transform3d_from_umpm([a, b])\n",
    "    \n",
    "    for gtid, gt in enumerate(Y_):\n",
    "        if gt is None:\n",
    "            continue\n",
    "        \n",
    "        larms = 0\n",
    "        uarms = 0\n",
    "        llegs = 0\n",
    "        ulegs = 0\n",
    "        avg = 0\n",
    "        for d in Humans:\n",
    "            r = pcp.evaluate(gt, d, alpha)\n",
    "            larms_ = r.lower_arms\n",
    "            uarms_ = r.upper_arms\n",
    "            ulegs_ = r.upper_legs\n",
    "            llegs_ = r.lower_legs\n",
    "            avg_ = (larms_ + uarms_ + ulegs_ + llegs_) / 4\n",
    "            if avg_ > avg:\n",
    "                avg = avg_\n",
    "                larms = larms_\n",
    "                uarms = uarms_\n",
    "                llegs = llegs_\n",
    "                ulegs = ulegs_\n",
    "        \n",
    "        L_Arms.append(larms)\n",
    "        U_Arms.append(uarms)\n",
    "        L_Legs.append(llegs)\n",
    "        U_Legs.append(ulegs)\n",
    "        GTIDs.append(gtid)\n",
    "    \n",
    "    return L_Arms, U_Arms, L_Legs, U_Legs, GTIDs, detections\n",
    "\n",
    "\n",
    "Detections = []\n",
    "PER_GTID = {}\n",
    "n = 2437\n",
    "n = 20\n",
    "for frame in range(0, n, 5):\n",
    "    _start = time()\n",
    "    L_Arms, U_Arms, L_Legs, U_Legs, GTIDs, detections =\\\n",
    "        generate_pcp_score(frame)\n",
    "    Detections.append(detections)\n",
    "    _end = time()\n",
    "    print('frame ' + str(frame) + ', elapsed', _end - _start)\n",
    "    \n",
    "    if len(L_Arms) > 0:\n",
    "        for gtid, larms, uarms, llegs, ulegs in zip(\n",
    "            GTIDs, L_Arms, U_Arms, L_Legs, U_Legs\n",
    "        ):\n",
    "            if not gtid in PER_GTID:\n",
    "                PER_GTID[gtid] = {\n",
    "                    'larms': [],\n",
    "                    'uarms': [],\n",
    "                    'llegs': [],\n",
    "                    'ulegs': [],\n",
    "                    'frame': []\n",
    "                }\n",
    "            PER_GTID[gtid]['larms'].append(larms)\n",
    "            PER_GTID[gtid]['uarms'].append(uarms)\n",
    "            PER_GTID[gtid]['llegs'].append(llegs)\n",
    "            PER_GTID[gtid]['ulegs'].append(ulegs)\n",
    "            PER_GTID[gtid]['frame'].append(frame)"
   ]
  },
  {
   "cell_type": "code",
   "execution_count": 3,
   "metadata": {},
   "outputs": [
    {
     "name": "stdout",
     "output_type": "stream",
     "text": [
      "actor  0\n",
      "\tuarms: 1.0\n",
      "\tlarms: 1.0\n",
      "\tulegs: 1.0\n",
      "\tllegs: 1.0\n",
      "\tavg:   1.0\n",
      "actor  1\n",
      "\tuarms: 1.0\n",
      "\tlarms: 1.0\n",
      "\tulegs: 1.0\n",
      "\tllegs: 1.0\n",
      "\tavg:   1.0\n",
      "\n",
      "avg*:   1.0\n"
     ]
    }
   ],
   "source": [
    "total_avg = []\n",
    "for key, values in PER_GTID.items():\n",
    "    print('actor ', key)\n",
    "    print('\\tuarms:', np.mean(values['uarms']))\n",
    "    print('\\tlarms:', np.mean(values['larms']))\n",
    "    print('\\tulegs:', np.mean(values['ulegs']))\n",
    "    print('\\tllegs:', np.mean(values['llegs']))\n",
    "    avg = np.mean([\n",
    "        np.mean(values['uarms']),\n",
    "        np.mean(values['larms']),\n",
    "        np.mean(values['ulegs']),\n",
    "        np.mean(values['llegs'])\n",
    "    ])\n",
    "    total_avg.append(avg)\n",
    "    print('\\tavg:  ', avg)\n",
    "print('\\navg*:  ', np.mean(total_avg))"
   ]
  }
 ],
 "metadata": {
  "kernelspec": {
   "display_name": "Python 3",
   "language": "python",
   "name": "python3"
  },
  "language_info": {
   "codemirror_mode": {
    "name": "ipython",
    "version": 3
   },
   "file_extension": ".py",
   "mimetype": "text/x-python",
   "name": "python",
   "nbconvert_exporter": "python",
   "pygments_lexer": "ipython3",
   "version": "3.6.5"
  }
 },
 "nbformat": 4,
 "nbformat_minor": 2
}
