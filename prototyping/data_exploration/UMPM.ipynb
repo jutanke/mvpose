{
 "cells": [
  {
   "cell_type": "code",
   "execution_count": 1,
   "metadata": {},
   "outputs": [
    {
     "name": "stdout",
     "output_type": "stream",
     "text": [
      "UMPM\n"
     ]
    },
    {
     "data": {
      "text/plain": [
       "(2437, 30, 5)"
      ]
     },
     "execution_count": 1,
     "metadata": {},
     "output_type": "execute_result"
    }
   ],
   "source": [
    "# ---- settings ----\n",
    "import json\n",
    "Settings = json.load(open('../../settings.txt'))\n",
    "# ------------------\n",
    "from os.path import join, isdir\n",
    "from pak.datasets.UMPM import UMPM\n",
    "\n",
    "root = join(Settings['data_root'], 'pak')\n",
    "\n",
    "user = Settings['UMPM']['username']\n",
    "pwd = Settings['UMPM']['password']\n",
    "\n",
    "umpm = UMPM(root, user, pwd)\n",
    "\n",
    "X, Y, Calib = umpm.get_data('p2_free_1')"
   ]
  }
 ],
 "metadata": {
  "kernelspec": {
   "display_name": "Python 3",
   "language": "python",
   "name": "python3"
  },
  "language_info": {
   "codemirror_mode": {
    "name": "ipython",
    "version": 3
   },
   "file_extension": ".py",
   "mimetype": "text/x-python",
   "name": "python",
   "nbconvert_exporter": "python",
   "pygments_lexer": "ipython3",
   "version": "3.6.4"
  }
 },
 "nbformat": 4,
 "nbformat_minor": 2
}
