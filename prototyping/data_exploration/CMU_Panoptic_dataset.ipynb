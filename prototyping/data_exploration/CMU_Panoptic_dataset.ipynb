{
 "cells": [
  {
   "cell_type": "markdown",
   "metadata": {},
   "source": [
    "# CMU Panoptic Dataset\n",
    "\n",
    "http://domedb.perception.cs.cmu.edu/"
   ]
  },
  {
   "cell_type": "code",
   "execution_count": 10,
   "metadata": {},
   "outputs": [
    {
     "name": "stdout",
     "output_type": "stream",
     "text": [
      "Settings:\n",
      "{'data-root': '/media/julian/Maxtor/DATA/'}\n",
      "\n",
      "\n"
     ]
    }
   ],
   "source": [
    "# ---- settings ----\n",
    "import json\n",
    "from pprint import pprint\n",
    "Settings = json.load(open('../../settings.txt'))\n",
    "print('Settings:')\n",
    "pprint(Settings)\n",
    "print('\\n')\n",
    "# ------------------\n",
    "from os.path import join, isdir\n",
    "\n",
    "panoptic_data_root = join(Settings['data-root'], 'cmu_panoptic')\n",
    "\n",
    "# check if the directory exists\n",
    "assert isdir(panoptic_data_root), \"The CMU panoptic data root MUST exist\"\n",
    "\n",
    "%matplotlib inline\n",
    "import matplotlib.pyplot as plt\n",
    "import numpy as np"
   ]
  },
  {
   "cell_type": "markdown",
   "metadata": {},
   "source": [
    "## Ultimatum1\n",
    "\n",
    "Get the data as follows:\n",
    "\n",
    "```bash\n",
    "./getData.sh 160422_ultimatum1 10 0\n",
    "```"
   ]
  },
  {
   "cell_type": "code",
   "execution_count": null,
   "metadata": {},
   "outputs": [],
   "source": []
  }
 ],
 "metadata": {
  "kernelspec": {
   "display_name": "Python 3",
   "language": "python",
   "name": "python3"
  },
  "language_info": {
   "codemirror_mode": {
    "name": "ipython",
    "version": 3
   },
   "file_extension": ".py",
   "mimetype": "text/x-python",
   "name": "python",
   "nbconvert_exporter": "python",
   "pygments_lexer": "ipython3",
   "version": "3.6.4"
  }
 },
 "nbformat": 4,
 "nbformat_minor": 2
}
