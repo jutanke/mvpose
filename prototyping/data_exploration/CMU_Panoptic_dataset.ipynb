{
 "cells": [
  {
   "cell_type": "markdown",
   "metadata": {},
   "source": [
    "# CMU Panoptic Dataset\n",
    "\n",
    "http://domedb.perception.cs.cmu.edu/"
   ]
  },
  {
   "cell_type": "code",
   "execution_count": 5,
   "metadata": {},
   "outputs": [
    {
     "name": "stdout",
     "output_type": "stream",
     "text": [
      "Settings:\n",
      "{'data-root': '/media/julian/Maxtor/DATA/pak/'}\n",
      "\n",
      "\n"
     ]
    }
   ],
   "source": [
    "# ---- settings ----\n",
    "import json\n",
    "from pprint import pprint\n",
    "Settings = json.load(open('../../settings.txt'))\n",
    "print('Settings:')\n",
    "pprint(Settings)\n",
    "print('\\n')\n",
    "# ------------------\n",
    "\n",
    "%matplotlib inline\n",
    "import matplotlib.pyplot as plt\n",
    "import numpy as np"
   ]
  }
 ],
 "metadata": {
  "kernelspec": {
   "display_name": "Python 3",
   "language": "python",
   "name": "python3"
  },
  "language_info": {
   "codemirror_mode": {
    "name": "ipython",
    "version": 3
   },
   "file_extension": ".py",
   "mimetype": "text/x-python",
   "name": "python",
   "nbconvert_exporter": "python",
   "pygments_lexer": "ipython3",
   "version": "3.6.4"
  }
 },
 "nbformat": 4,
 "nbformat_minor": 2
}
