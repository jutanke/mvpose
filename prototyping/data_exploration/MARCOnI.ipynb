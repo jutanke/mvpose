{
 "cells": [
  {
   "cell_type": "markdown",
   "metadata": {},
   "source": [
    "# MARCOnI\n",
    "\n",
    "http://marconi.mpi-inf.mpg.de "
   ]
  },
  {
   "cell_type": "code",
   "execution_count": null,
   "metadata": {},
   "outputs": [
    {
     "name": "stdout",
     "output_type": "stream",
     "text": [
      "Settings:\n",
      "{'data-root': '/media/julian/Maxtor/DATA/'}\n",
      "\n",
      "\n",
      "(MARCOnl)\n",
      "\tSoccer finished\n",
      "\tKickbox finished\n",
      "\tSBoard finished\n",
      "\tSoccer2 finished\n",
      "\tWalk1 finished\n",
      "\tWalk2 finished\n"
     ]
    }
   ],
   "source": [
    "# ---- settings ----\n",
    "import json\n",
    "from pprint import pprint\n",
    "Settings = json.load(open('../../settings.txt'))\n",
    "print('Settings:')\n",
    "pprint(Settings)\n",
    "print('\\n')\n",
    "# ------------------\n",
    "from os.path import join, isdir\n",
    "\n",
    "root = join(Settings['data-root'], 'pak')\n",
    "\n",
    "%matplotlib inline\n",
    "import matplotlib.pyplot as plt\n",
    "import numpy as np\n",
    "import sys\n",
    "sys.path.insert(0,'../')\n",
    "from pak import utils\n",
    "from pak.datasets.MARCOnI import MARCOnI\n",
    "import matplotlib.pyplot as plt\n",
    "import itertools\n",
    "\n",
    "\n",
    "marconi = MARCOnI(root)"
   ]
  }
 ],
 "metadata": {
  "kernelspec": {
   "display_name": "Python 3",
   "language": "python",
   "name": "python3"
  },
  "language_info": {
   "codemirror_mode": {
    "name": "ipython",
    "version": 3
   },
   "file_extension": ".py",
   "mimetype": "text/x-python",
   "name": "python",
   "nbconvert_exporter": "python",
   "pygments_lexer": "ipython3",
   "version": "3.6.4"
  }
 },
 "nbformat": 4,
 "nbformat_minor": 2
}
