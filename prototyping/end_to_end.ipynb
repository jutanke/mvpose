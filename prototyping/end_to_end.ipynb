{
 "cells": [
  {
   "cell_type": "code",
   "execution_count": 10,
   "metadata": {},
   "outputs": [
    {
     "name": "stdout",
     "output_type": "stream",
     "text": [
      "UMPM\n",
      "0\n",
      "5\n"
     ]
    }
   ],
   "source": [
    "%matplotlib inline\n",
    "# ---- settings ----\n",
    "import json\n",
    "import matplotlib.pyplot as plt\n",
    "from os.path import isfile\n",
    "import sys\n",
    "from time import time\n",
    "import cv2\n",
    "import numpy as np\n",
    "from os.path import join, isdir\n",
    "from mpl_toolkits.mplot3d import Axes3D\n",
    "sys.path.insert(0,'../')\n",
    "sys.path.append('./../../easy_multi_person_pose_estimation')\n",
    "from mvpose import pose\n",
    "from poseestimation import model\n",
    "pe = model.PoseEstimator()\n",
    "import mvpose.data.transform as tfm\n",
    "\n",
    "Settings = json.load(open('../settings.txt'))\n",
    "\n",
    "root = join(Settings['data_root'], 'pak')\n",
    "\n",
    "from pak.datasets.UMPM import UMPM\n",
    "user = Settings['UMPM']['username']\n",
    "pwd = Settings['UMPM']['password']\n",
    "\n",
    "\n",
    "X, Y, Calib = tfm.get_from_umpm(root, 'p2_free_1', user, pwd)\n",
    "\n",
    "# create video\n",
    "start_frame = 0\n",
    "skip = 5\n",
    "total_frames = 2\n",
    "\n"
   ]
  },
  {
   "cell_type": "code",
   "execution_count": 12,
   "metadata": {},
   "outputs": [
    {
     "name": "stdout",
     "output_type": "stream",
     "text": [
      "(4, 486, 644, 3)\n",
      "(4, 486, 644, 3)\n"
     ]
    }
   ],
   "source": [
    "for f in range(start_frame, (start_frame + total_frames) * skip, skip):\n",
    "    \n",
    "    Im = np.array([X[0][f], X[1][f], X[2][f], X[3][f]])\n",
    "    \n",
    "    \n",
    "    \n",
    "    "
   ]
  }
 ],
 "metadata": {
  "kernelspec": {
   "display_name": "Python 3",
   "language": "python",
   "name": "python3"
  },
  "language_info": {
   "codemirror_mode": {
    "name": "ipython",
    "version": 3
   },
   "file_extension": ".py",
   "mimetype": "text/x-python",
   "name": "python",
   "nbconvert_exporter": "python",
   "pygments_lexer": "ipython3",
   "version": "3.6.4"
  }
 },
 "nbformat": 4,
 "nbformat_minor": 2
}
