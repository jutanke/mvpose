{
 "cells": [
  {
   "cell_type": "code",
   "execution_count": null,
   "metadata": {},
   "outputs": [],
   "source": [
    "import numpy as np\n",
    "from ortools.linear_solver import pywraplp as mip\n",
    "import sys\n",
    "sys.path.insert(0,'../')\n",
    "from mvpose.candidates.transitivity import TransitivityLookup\n",
    "\n",
    "\n",
    "def qq():\n",
    "    solver = mip.Solver('m', mip.Solver.CBC_MIXED_INTEGER_PROGRAMMING)\n",
    "\n",
    "    Nu = {}\n",
    "\n",
    "    for i in range(15):\n",
    "        for j in range(15):\n",
    "            Nu[i, j] = solver.BoolVar('nu[%i,%i]' % (i,j))\n",
    "\n",
    "    return Nu\n",
    "        \n",
    "Nu = qq()\n",
    "    \n",
    "print(Nu)"
   ]
  }
 ],
 "metadata": {
  "kernelspec": {
   "display_name": "Python 3",
   "language": "python",
   "name": "python3"
  },
  "language_info": {
   "codemirror_mode": {
    "name": "ipython",
    "version": 3
   },
   "file_extension": ".py",
   "mimetype": "text/x-python",
   "name": "python",
   "nbconvert_exporter": "python",
   "pygments_lexer": "ipython3",
   "version": "3.6.5"
  }
 },
 "nbformat": 4,
 "nbformat_minor": 2
}
