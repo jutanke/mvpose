{
 "cells": [
  {
   "cell_type": "code",
   "execution_count": 46,
   "metadata": {},
   "outputs": [
    {
     "data": {
      "image/png": "[encoded data removed]",
      "text/plain": [
       "<Figure size 864x216 with 1 Axes>"
      ]
     },
     "metadata": {},
     "output_type": "display_data"
    }
   ],
   "source": [
    "%matplotlib inline\n",
    "import matplotlib.pyplot as plt\n",
    "import numpy as np\n",
    "from matplotlib import rc\n",
    "rc('text', usetex=True)\n",
    "\n",
    "import matplotlib\n",
    "\n",
    "matplotlib.rcParams.update({'font.size': 21})\n",
    "\n",
    "def plot_stat(x, v_avg, v_std, v_min, v_max):\n",
    "    ax.plot([x, x], [v_avg-v_std, v_avg+v_std], color='black', alpha=1)\n",
    "    ax.scatter(x, v_min, color='gray', marker='D', linewidths=2)\n",
    "    ax.scatter(x, v_avg, color='black', marker='D', linewidths=2)\n",
    "    ax.scatter(x, v_max, color='gray', marker='D', linewidths=2)\n",
    "    ax.plot([x-0.1, x+0.1], [v_avg, v_avg], color='black')\n",
    "    ax.plot([x-0.1, x+0.1], [v_avg+v_std, v_avg+v_std], color='black')\n",
    "    ax.plot([x-0.1, x+0.1], [v_avg-v_std, v_avg-v_std], color='black')\n",
    "\n",
    "\n",
    "\n",
    "\n",
    "fig = plt.figure(figsize=(12, 3))\n",
    "ax = fig.add_subplot(111)\n",
    "ax.set_xlim([0.5, 5.5])\n",
    "ax.plot([0, 6], [0, 0], color='black', alpha=0.2)\n",
    "\n",
    "\n",
    "# kth\n",
    "v_avg = 2.197861813004704\n",
    "v_std = 1.2509678333278078\n",
    "v_min = -0.03638568054601407\n",
    "v_max = 5.070362760174167\n",
    "plot_stat(1, v_avg, v_std, v_min, v_max)\n",
    "\n",
    "# campus\n",
    "v_avg = 1.9829473112636211\n",
    "v_std = 1.064166575258708\n",
    "v_min = -0.37207962249827686\n",
    "v_max = 4.87020313120984\n",
    "plot_stat(2, v_avg, v_std, v_min, v_max)\n",
    "\n",
    "# CMU\n",
    "v_avg =  0.9669985470869435\n",
    "v_std = 0.37136066198620926\n",
    "v_min = -0.06316830831129518\n",
    "v_max = 2.0439253983487435\n",
    "plot_stat(3, v_avg, v_std, v_min, v_max)\n",
    "\n",
    "# Shelf\n",
    "v_avg =  0.8635103081993661\n",
    "v_std = 0.47608993855443077\n",
    "v_min = -0.1391755578135537\n",
    "v_max = 1.7303530305875274\n",
    "plot_stat(4, v_avg, v_std, v_min, v_max)\n",
    "\n",
    "# UMPM\n",
    "v_avg =  1.4220051203065138\n",
    "v_std = 0.7528805522389711\n",
    "v_min = -0.12327365614640724\n",
    "v_max = 3.147282974586914\n",
    "plot_stat(5, v_avg, v_std, v_min, v_max)\n",
    "\n",
    "\n",
    "\n",
    "ax.set_xticks([1, 2, 3, 4, 5])\n",
    "ax.set_xticklabels(['KTH football II', \n",
    "                    'Campus',\n",
    "                    \"CMU\",\n",
    "                   \"Shelf\",\n",
    "                   \"UMPM\"], \n",
    "                   fontsize=20)\n",
    "\n",
    "\n",
    "#plt.show()\n",
    "plt.savefig('lambda_deviation.eps', format='eps', dpi=300)"
   ]
  }
 ],
 "metadata": {
  "kernelspec": {
   "display_name": "Python 3",
   "language": "python",
   "name": "python3"
  },
  "language_info": {
   "codemirror_mode": {
    "name": "ipython",
    "version": 3
   },
   "file_extension": ".py",
   "mimetype": "text/x-python",
   "name": "python",
   "nbconvert_exporter": "python",
   "pygments_lexer": "ipython3",
   "version": "3.6.5"
  }
 },
 "nbformat": 4,
 "nbformat_minor": 2
}
